{
 "cells": [
  {
   "cell_type": "markdown",
   "metadata": {},
   "source": [
    "# Evaluation of FSRS online and SM-15\n",
    "\n",
    "The result of the evaluation shows that the difference in performance between FSRS online and SM-15 is not significant. FSRS online has reached the level of SM-15."
   ]
  },
  {
   "cell_type": "code",
   "execution_count": 1,
   "metadata": {},
   "outputs": [
    {
     "name": "stdout",
     "output_type": "stream",
     "text": [
      "Number of users: 9\n",
      "Number of repetitions: 180714\n",
      "\n",
      "Metric: RMSE\n",
      "FSRS\tmean: 0.1189\tstd: 0.0511\n",
      "SM15\tmean: 0.1107\tstd: 0.0384\n",
      "TtestResult(statistic=0.5327511678090001, pvalue=0.6086816363117653, df=8)\n",
      "WilcoxonResult(statistic=22.0, pvalue=1.0)\n",
      "\n",
      "Metric: log_loss\n",
      "FSRS\tmean: 0.3739\tstd: 0.1211\n",
      "SM15\tmean: 0.3858\tstd: 0.1517\n",
      "TtestResult(statistic=-0.7325715195249516, pvalue=0.484727307369726, df=8)\n",
      "WilcoxonResult(statistic=16.0, pvalue=0.49609375)\n",
      "\n",
      "Metric: universal_metric\n",
      "FSRS\tmean: 0.0659\tstd: 0.0369\n",
      "SM15\tmean: 0.0657\tstd: 0.0381\n",
      "TtestResult(statistic=0.01973231164652127, pvalue=0.9847401828565837, df=8)\n",
      "WilcoxonResult(statistic=16.0, pvalue=0.49609375)\n",
      "\n"
     ]
    }
   ],
   "source": [
    "import scipy\n",
    "import json\n",
    "import numpy as np\n",
    "\n",
    "with open(\"./evaluation.json\", 'r') as f:  \n",
    "    evaluation = json.load(f)\n",
    "\n",
    "print(f\"Number of users: {len(evaluation)}\")\n",
    "\n",
    "size = []\n",
    "for item in evaluation:\n",
    "    size.append(item['size'])\n",
    "\n",
    "print(f\"Number of repetitions: {sum(size)}\")\n",
    "\n",
    "metrics = [\"RMSE\", \"log_loss\", \"universal_metric\"]\n",
    "\n",
    "print()\n",
    "\n",
    "for m in metrics:\n",
    "    fsrs = []\n",
    "    sm15 = []\n",
    "    for item in evaluation:\n",
    "        fsrs.append(item['fsrs'][m])\n",
    "        sm15.append(item['sm15'][m])\n",
    "\n",
    "    fsrs = np.array(fsrs)\n",
    "    sm15 = np.array(sm15)\n",
    "\n",
    "    print(f\"Metric: {m}\")\n",
    "    print(f\"FSRS\\tmean: {fsrs.mean():.4f}\\tstd: {fsrs.std():.4f}\")\n",
    "    print(f\"SM15\\tmean: {sm15.mean():.4f}\\tstd: {sm15.std():.4f}\")\n",
    "    print(scipy.stats.ttest_rel(fsrs, sm15))\n",
    "    print(scipy.stats.wilcoxon(fsrs, sm15))\n",
    "    print()"
   ]
  },
  {
   "cell_type": "markdown",
   "metadata": {},
   "source": [
    "# Reference\n",
    "\n",
    "- fsrs: https://github.com/open-spaced-repetition/fsrs4anki/wiki/The-Algorithm\n",
    "- sm15: https://supermemo.guru/wiki/Algorithm_SM-15\n",
    "- rmse: https://en.wikipedia.org/wiki/Root-mean-square_deviation\n",
    "- log_loss: https://en.wikipedia.org/wiki/Cross-entropy\n",
    "- universal_metric: https://supermemo.guru/wiki/Universal_metric_for_cross-comparison_of_spaced_repetition_algorithms\n",
    "- ttest_rel: https://en.wikipedia.org/wiki/Student%27s_t-test#Dependent_t-test_for_paired_samples\n",
    "- wilcoxon: https://en.wikipedia.org/wiki/Wilcoxon_signed-rank_test"
   ]
  }
 ],
 "metadata": {
  "kernelspec": {
   "display_name": "fsrs4anki",
   "language": "python",
   "name": "python3"
  },
  "language_info": {
   "codemirror_mode": {
    "name": "ipython",
    "version": 3
   },
   "file_extension": ".py",
   "mimetype": "text/x-python",
   "name": "python",
   "nbconvert_exporter": "python",
   "pygments_lexer": "ipython3",
   "version": "3.9.16"
  },
  "orig_nbformat": 4
 },
 "nbformat": 4,
 "nbformat_minor": 2
}
